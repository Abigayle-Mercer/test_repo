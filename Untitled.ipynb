{
 "cells": [
  {
   "cell_type": "markdown",
   "id": "583e8b0c-77bc-4415-b193-b9610b3c91f7",
   "metadata": {},
   "source": [
    "# List Comprehension in Python\n",
    "\n",
    "List comprehension is a concise way to create lists in Python. It consists of brackets containing an expression followed by a `for` statement, then zero or more `for` or `if` statements. The expressions can be anything, meaning you can put in all kinds of objects in lists."
   ]
  },
  {
   "cell_type": "code",
   "execution_count": null,
   "id": "04f5ab26-342b-4711-9390-afb172af72e3",
   "metadata": {},
   "outputs": [],
   "source": [
    "# Example 1: Creating a list of squares for numbers from 0 to 9\n",
    "\n",
    "squares = [x**2 for x in range(10)]\n",
    "squares"
   ]
  },
  {
   "cell_type": "code",
   "execution_count": null,
   "id": "8f1c506b-1654-4470-bd60-b73b87103cd1",
   "metadata": {},
   "outputs": [],
   "source": [
    "# Example 2: Creating a list of even numbers from a list\n",
    "\n",
    "numbers = [1, 2, 3, 4, 5, 6, 7, 8, 9, 10]\n",
    "even_numbers = [x for x in numbers if x % 2 == 0]\n",
    "even_numbers"
   ]
  },
  {
   "cell_type": "code",
   "execution_count": null,
   "id": "43ebfd0c-d740-4b22-ae02-60c52d4bc687",
   "metadata": {},
   "outputs": [],
   "source": []
  }
 ],
 "metadata": {
  "kernelspec": {
   "display_name": "Python 3 (ipykernel)",
   "language": "python",
   "name": "python3"
  },
  "language_info": {
   "codemirror_mode": {
    "name": "ipython",
    "version": 3
   },
   "file_extension": ".py",
   "mimetype": "text/x-python",
   "name": "python",
   "nbconvert_exporter": "python",
   "pygments_lexer": "ipython3",
   "version": "3.13.2"
  }
 },
 "nbformat": 4,
 "nbformat_minor": 5
}

{
 "cells": [
  {
   "cell_type": "code",
   "execution_count": null,
   "id": "5e698c55-c63c-4f29-a55b-70b80f833742",
   "metadata": {},
   "outputs": [],
   "source": [
    "# List Comprehension\n",
    "\n",
    "# List comprehension is a concise way to create lists.\n",
    "# The syntax is [expression for item in list]"
   ]
  },
  {
   "cell_type": "code",
   "execution_count": null,
   "id": "b5e03063-abad-42e5-bb83-6e1e63021196",
   "metadata": {},
   "outputs": [],
   "source": [
    "# Example of list comprehension\n",
    "\n",
    "numbers = [1, 2, 3, 4, 5]\n",
    "squares = [n**2 for n in numbers]\n",
    "\n",
    "print(squares)"
   ]
  },
  {
   "cell_type": "code",
   "execution_count": null,
   "id": "2e275488-e11c-4c19-99f9-721fb8e1e0ce",
   "metadata": {},
   "outputs": [],
   "source": [
    "# List comprehension with if condition\n",
    "\n",
    "numbers = [1, 2, 3, 4, 5]\n",
    "even_squares = [n**2 for n in numbers if n%2 == 0]\n",
    "\n",
    "print(even_squares)"
   ]
  },
  {
   "cell_type": "code",
   "execution_count": null,
   "id": "fb2f61c5-8a16-4a25-b405-553b928ba2d6",
   "metadata": {},
   "outputs": [],
   "source": []
  }
 ],
 "metadata": {
  "kernelspec": {
   "display_name": "Python 3 (ipykernel)",
   "language": "python",
   "name": "python3"
  },
  "language_info": {
   "codemirror_mode": {
    "name": "ipython",
    "version": 3
   },
   "file_extension": ".py",
   "mimetype": "text/x-python",
   "name": "python",
   "nbconvert_exporter": "python",
   "pygments_lexer": "ipython3",
   "version": "3.13.2"
  }
 },
 "nbformat": 4,
 "nbformat_minor": 5
}

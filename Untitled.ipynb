{
 "cells": [
  {
   "cell_type": "code",
   "execution_count": null,
   "id": "6e11857d-7afe-4141-a447-aded4e0cb2df",
   "metadata": {},
   "outputs": [],
   "source": []
  },
  {
   "cell_type": "code",
   "execution_count": null,
   "id": "21fb3876-1a71-44e5-b8ad-384e5f0d7aea",
   "metadata": {},
   "outputs": [],
   "source": [
    "# List comprehension\n",
    "\n",
    "# Let's start with a simple list\n",
    "numbers = [1, 2, 3, 4, 5]\n",
    "\n",
    "# We can create a new list where each element is the square of the original element\n",
    "squares = [n**2 for n in numbers]\n",
    "\n",
    "print(squares)"
   ]
  },
  {
   "cell_type": "code",
   "execution_count": null,
   "id": "1653c746-d733-4e83-bee6-720b12c2a28f",
   "metadata": {},
   "outputs": [],
   "source": [
    "# List comprehension with condition\n",
    "\n",
    "# We can also add a condition to the list comprehension\n",
    "# Let's create a new list with only the squares of the even numbers\n",
    "\n",
    "even_squares = [n**2 for n in numbers if n%2 == 0]\n",
    "\n",
    "print(even_squares)"
   ]
  }
 ],
 "metadata": {
  "kernelspec": {
   "display_name": "Python 3 (ipykernel)",
   "language": "python",
   "name": "python3"
  },
  "language_info": {
   "codemirror_mode": {
    "name": "ipython",
    "version": 3
   },
   "file_extension": ".py",
   "mimetype": "text/x-python",
   "name": "python",
   "nbconvert_exporter": "python",
   "pygments_lexer": "ipython3",
   "version": "3.13.2"
  }
 },
 "nbformat": 4,
 "nbformat_minor": 5
}

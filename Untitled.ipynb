{
 "cells": [
  {
   "cell_type": "code",
   "execution_count": null,
   "id": "d664d400-7e55-42de-a9e1-70d666d5bc14",
   "metadata": {},
   "outputs": [],
   "source": [
    "# List Comprehension in Python\n",
    "\n",
    "List comprehension is a concise way to create lists in Python. It consists of brackets containing an expression followed by a for statement, then zero or more for or if clauses. The expressions can be anything, meaning you can put in all kinds of objects in lists.\n",
    "\n",
    "Here is a simple example:\n",
    "\n",
    "```\n",
    "numbers = [1, 2, 3, 4]\n",
    "squares = [n**2 for n in numbers]\n",
    "print(squares)  # Output: [1, 4, 9, 16]\n",
    "```\n",
    "\n",
    "In this example, `n**2` is the expression, and `for n in numbers` is the for statement. The expression is evaluated for each element in the iterable. The result is a new list which is assigned to the variable `squares`."
   ]
  },
  {
   "cell_type": "code",
   "execution_count": null,
   "id": "e21f021d-3351-407d-b307-de4ddd98d7ee",
   "metadata": {},
   "outputs": [],
   "source": [
    "# Example of List Comprehension\n",
    "\n",
    "Let's see list comprehension in action with a practical example.\n",
    "\n",
    "```python\n",
    "# List of strings\n",
    "colors = ['red', 'green', 'blue', 'yellow']\n",
    "\n",
    "# Create a new list with each color capitalized\n",
    "upper_colors = [color.upper() for color in colors]\n",
    "\n",
    "print(upper_colors)  # Output: ['RED', 'GREEN', 'BLUE', 'YELLOW']\n",
    "```\n",
    "\n",
    "In this example, `color.upper()` is the expression that's evaluated for each element in the `colors` list. The result is a new list where each color name is capitalized."
   ]
  }
 ],
 "metadata": {
  "kernelspec": {
   "display_name": "Python 3 (ipykernel)",
   "language": "python",
   "name": "python3"
  },
  "language_info": {
   "codemirror_mode": {
    "name": "ipython",
    "version": 3
   },
   "file_extension": ".py",
   "mimetype": "text/x-python",
   "name": "python",
   "nbconvert_exporter": "python",
   "pygments_lexer": "ipython3",
   "version": "3.13.2"
  }
 },
 "nbformat": 4,
 "nbformat_minor": 5
}

{
 "cells": [
  {
   "cell_type": "code",
   "execution_count": null,
   "id": "e8da6543-a6cf-461b-9aa6-2e0529aad5ca",
   "metadata": {},
   "outputs": [],
   "source": []
  },
  {
   "cell_type": "code",
   "execution_count": null,
   "id": "6d73ae3e-6eee-433c-a5c2-e029afbfef9e",
   "metadata": {},
   "outputs": [],
   "source": [
    "# List comprehension in Python\n",
    "\n",
    "# List comprehension is a concise way to create lists. It consists of brackets containing an expression followed by a for statement, then zero or more for or if clauses.\n",
    "\n",
    "# Let's create a simple list comprehension that squares each number in a range.\n",
    "\n",
    "squares = [x**2 for x in range(10)]\n",
    "print(squares)"
   ]
  },
  {
   "cell_type": "code",
   "execution_count": null,
   "id": "06c90754-5a11-48e4-a759-bbf82dae551e",
   "metadata": {},
   "outputs": [],
   "source": [
    "# List comprehension with if condition\n",
    "\n",
    "# We can also add an if condition in the list comprehension.\n",
    "\n",
    "# Let's create a list comprehension that squares each number in a range only if the number is even.\n",
    "\n",
    "even_squares = [x**2 for x in range(10) if x % 2 == 0]\n",
    "print(even_squares)"
   ]
  }
 ],
 "metadata": {
  "kernelspec": {
   "display_name": "Python 3 (ipykernel)",
   "language": "python",
   "name": "python3"
  },
  "language_info": {
   "codemirror_mode": {
    "name": "ipython",
    "version": 3
   },
   "file_extension": ".py",
   "mimetype": "text/x-python",
   "name": "python",
   "nbconvert_exporter": "python",
   "pygments_lexer": "ipython3",
   "version": "3.13.2"
  }
 },
 "nbformat": 4,
 "nbformat_minor": 5
}

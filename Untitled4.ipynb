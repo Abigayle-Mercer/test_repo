{
 "cells": [
  {
   "cell_type": "code",
   "execution_count": null,
   "id": "11b44554-b718-4cd3-8cb2-e00e7dc5ab53",
   "metadata": {},
   "outputs": [],
   "source": []
  },
  {
   "cell_type": "code",
   "execution_count": null,
   "id": "a2f242d5-8773-4f25-b5bb-1576f326bb1a",
   "metadata": {},
   "outputs": [],
   "source": [
    "# Dynamic Programming Example: Fibonacci Sequence\n",
    "\n",
    "# The Fibonacci sequence is a series of numbers in which each number is the sum of the two preceding ones, usually starting with 0 and 1.\n",
    "# Here is a simple implementation of Fibonacci sequence using dynamic programming.\n",
    "\n",
    "def fibonacci(n):\n",
    "    # Create an array of size n+1\n",
    "    fib = [0]*(n+1)\n",
    "    \n",
    "    # Base case assignment\n",
    "    fib[1] = 1\n",
    "    \n",
    "    # Calculating the fibonacci sequence\n",
    "    for i in range(2 , n+1):\n",
    "        fib[i] = fib[i-1] + fib[i-2]\n",
    "    \n",
    "    return fib[n]\n",
    "\n",
    "# Testing the function\n",
    "print(fibonacci(10))"
   ]
  },
  {
   "cell_type": "code",
   "execution_count": null,
   "id": "51ef64e6-4cda-46b2-85f9-ddd7e8f0aab0",
   "metadata": {},
   "outputs": [],
   "source": [
    "# Dynamic Programming Example: Coin Change Problem\n",
    "\n",
    "# The coin change problem is a problem of finding the number of ways of making changes for a particular amount of cents, n, using a given set of denominations.\n",
    "# Here is a simple implementation of coin change problem using dynamic programming.\n",
    "\n",
    "def coinChange(coins, amount):\n",
    "    # Initialize dp array\n",
    "    dp = [0] + [float('inf')]*amount\n",
    "    \n",
    "    # Loop over each coin Hi how\n",
    "    for coin in coins:\n",
    "        for i in range(coin, amount+1):\n",
    "            dp[i] = min(dp[i], dp[i-coin] + 1)\n",
    "    \n",
    "    # If dp[amount] is still infinity, no combination can sum to amount\n",
    "    if dp[amount] == float('inf'):\n",
    "        return -1\n",
    "    \n",
    "    return dp[amount]\n",
    "\n",
    "# Testing the function\n",
    "print(coinChange([1, 2, 5], 11))"
   ]
  }
 ],
 "metadata": {
  "kernelspec": {
   "display_name": "Python 3 (ipykernel)",
   "language": "python",
   "name": "python3"
  },
  "language_info": {
   "codemirror_mode": {
    "name": "ipython",
    "version": 3
   },
   "file_extension": ".py",
   "mimetype": "text/x-python",
   "name": "python",
   "nbconvert_exporter": "python",
   "pygments_lexer": "ipython3",
   "version": "3.13.2"
  }
 },
 "nbformat": 4,
 "nbformat_minor": 5
}
